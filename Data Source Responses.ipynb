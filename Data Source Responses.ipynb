{
 "cells": [
  {
   "cell_type": "markdown",
   "metadata": {},
   "source": [
    "The date of December 24th to choose what is known as a popular neighborhood is problematic due to the fact that this very close to Christmas and people tend to be at home rather than on vacation. I would use either a different date that would be more indicative of the time of the general trend that is not necessarily related to a major holiday or I would like at the trend over a longer period of time."
   ]
  },
  {
   "cell_type": "markdown",
   "metadata": {},
   "source": [
    "The mental health service utilization on September 12,2001 would presumably be higher in New York City due to their proximity to the events that occured the day prior at what was previously the twin towers site. I would use either two cities that had similiar circumstances during the recent past or change the time period where both cities had relatively similiar pasts."
   ]
  },
  {
   "cell_type": "markdown",
   "metadata": {},
   "source": [
    "The data source is poorly chosen due to the fact that 93% of the respondents are either working and in university or just in university this will cause a bias in our "
   ]
  }
 ],
 "metadata": {
  "kernelspec": {
   "display_name": "Python 3",
   "language": "python",
   "name": "python3"
  },
  "language_info": {
   "codemirror_mode": {
    "name": "ipython",
    "version": 3
   },
   "file_extension": ".py",
   "mimetype": "text/x-python",
   "name": "python",
   "nbconvert_exporter": "python",
   "pygments_lexer": "ipython3",
   "version": "3.7.0"
  }
 },
 "nbformat": 4,
 "nbformat_minor": 2
}
